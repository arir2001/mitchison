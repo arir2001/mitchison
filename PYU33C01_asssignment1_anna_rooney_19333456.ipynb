{
 "cells": [
  {
   "cell_type": "markdown",
   "metadata": {},
   "source": [
    "# Assignment 1 – Data analysis for Astro data\n",
    "## Anna Rooney, 19333456, 3rd year Physics 2024\n",
    "### PYU33C01, Computer Simulation I: Computational Methods (Mitchison)\n"
   ]
  },
  {
   "cell_type": "markdown",
   "metadata": {},
   "source": [
    "### Tasks\n",
    "\n",
    "**(a) How many planets were discovered each year?** \n",
    "- Plot the number of planets discovered per year versus time.\n",
    "  - X-axis: Year\n",
    "  - Y-axis: Number of planets discovered\n",
    "\n",
    "[Go to (a) Results](#sectiona)\n",
    "\n",
    "**(b) How does a planet's mass correlate with the mass of its star?**\n",
    "- Create a scatter plot on a log-log scale showing each planet's mass versus the mass of its star.\n",
    "- Write a brief comment on the meaning of the plot and print it to the screen using a `print()` statement.\n",
    "\n",
    "[Go to (b) Results](#sectionb)\n",
    "\n",
    "**(c) How many planets have been discovered at each facility?**\n",
    "- For each facility:\n",
    "  - Find the total number of planets discovered.\n",
    "  - Determine the year of the first planet discovery.\n",
    "- Print a list of the top 10 facilities, ordered by the year of the first discovery.\n",
    "  - The list should include:\n",
    "    - Facility name\n",
    "    - Total number of planets discovered\n",
    "    - Year of first discovery\n",
    "- Print the name of the facility that has discovered the most planets overall.\n",
    "\n",
    "[Go to (c) Results](#sectionc)"
   ]
  },
  {
   "cell_type": "code",
   "execution_count": 2,
   "metadata": {},
   "outputs": [
    {
     "name": "stdout",
     "output_type": "stream",
     "text": [
      "['pl_name' 'hostname' 'disc_year' 'disc_facility' 'pl_orbsmax' 'pl_bmassj'\n",
      " 'st_mass' 'sy_dist']\n"
     ]
    },
    {
     "name": "stderr",
     "output_type": "stream",
     "text": [
      "/tmp/ipykernel_2636/3358838871.py:10: UserWarning: Input line 1 contained no data and will not be counted towards `max_rows=50000`.  This differs from the behaviour in NumPy <=1.22 which counted lines rather than rows.  If desired, the previous behaviour can be achieved by using `itertools.islice`.\n",
      "Please see the 1.23 release notes for an example on how to do this.  If you wish to ignore this warning, use `warnings.filterwarnings`.  This warning is expected to be removed in the future and is given only once per `loadtxt` call.\n",
      "  data = np.loadtxt('planets_2024.csv', delimiter=',', dtype=str)\n"
     ]
    }
   ],
   "source": [
    "## - copied from lab 1 assignment : \n",
    "\n",
    "# Load packages\n",
    "import numpy as np\n",
    "import matplotlib.pyplot as plt\n",
    "# Increase the font size to 16\n",
    "plt.rcParams.update({'font.size': 16})\n",
    "\n",
    "# This reads each line of the data file and stores it as an array of strings\n",
    "data = np.loadtxt('planets_2024.csv', delimiter=',', dtype=str)\n",
    "\n",
    "\"\"\" Some of the fields are missing for certain stars, which could cause difficulty.  \n",
    "More advanced database packages, like pandas, can account for this.   \n",
    "For now, we'll use a quick fix and replace all the empty fields with '0'.\"\"\"\n",
    "data[np.nonzero(data=='')] = '0'\n",
    "\n",
    "labels = data[0]\n",
    "print(labels)"
   ]
  },
  {
   "cell_type": "code",
   "execution_count": 11,
   "metadata": {},
   "outputs": [
    {
     "name": "stdout",
     "output_type": "stream",
     "text": [
      "We have now finished the year 1992 there are  32  years left to go\n",
      "We have now finished the year 1994 there are  31  years left to go\n",
      "We have now finished the year 1995 there are  30  years left to go\n",
      "We have now finished the year 1996 there are  29  years left to go\n",
      "We have now finished the year 1997 there are  28  years left to go\n",
      "We have now finished the year 1998 there are  27  years left to go\n",
      "We have now finished the year 1999 there are  26  years left to go\n",
      "We have now finished the year 2000 there are  25  years left to go\n",
      "We have now finished the year 2001 there are  24  years left to go\n",
      "We have now finished the year 2002 there are  23  years left to go\n",
      "We have now finished the year 2003 there are  22  years left to go\n",
      "We have now finished the year 2004 there are  21  years left to go\n",
      "We have now finished the year 2005 there are  20  years left to go\n",
      "We have now finished the year 2006 there are  19  years left to go\n",
      "We have now finished the year 2007 there are  18  years left to go\n",
      "We have now finished the year 2008 there are  17  years left to go\n",
      "We have now finished the year 2009 there are  16  years left to go\n",
      "We have now finished the year 2010 there are  15  years left to go\n",
      "We have now finished the year 2011 there are  14  years left to go\n",
      "We have now finished the year 2012 there are  13  years left to go\n",
      "We have now finished the year 2013 there are  12  years left to go\n",
      "We have now finished the year 2014 there are  11  years left to go\n",
      "We have now finished the year 2015 there are  10  years left to go\n",
      "We have now finished the year 2016 there are  9  years left to go\n",
      "We have now finished the year 2017 there are  8  years left to go\n",
      "We have now finished the year 2018 there are  7  years left to go\n",
      "We have now finished the year 2019 there are  6  years left to go\n",
      "We have now finished the year 2020 there are  5  years left to go\n",
      "We have now finished the year 2021 there are  4  years left to go\n",
      "We have now finished the year 2022 there are  3  years left to go\n",
      "We have now finished the year 2023 there are  2  years left to go\n",
      "We have now finished the year 2024 there are  1  years left to go\n"
     ]
    }
   ],
   "source": [
    "\n",
    "unique_disc_year = np.unique(all_disc_year)\n",
    "\n",
    "count = 1\n",
    "#star_tuple = [(stars[1], count)]\n",
    "\n",
    "#print(star_tuple)\n",
    "\n",
    "year_dic = {}\n",
    "\n",
    "for i in range(len(unique_disc_year)):\n",
    "    count = 0\n",
    "    for x in range(len(all_disc_year)):\n",
    "        if all_disc_year[x] == unique_disc_year[i]:\n",
    "            count = count + 1\n",
    "        year_dic[unique_disc_year[i]] = count, all_disc_year[x]\n",
    "    print('We have now finished the year', unique_disc_year[i], 'there are ', len(unique_disc_year) - i, ' years left to go')\n",
    "\n"
   ]
  },
  {
   "cell_type": "code",
   "execution_count": 12,
   "metadata": {},
   "outputs": [
    {
     "name": "stdout",
     "output_type": "stream",
     "text": [
      "Question -- how many planets were discovered in 2002?\n",
      "(29, np.str_('2007')) planets were discovered in 2002. Their names are: \n"
     ]
    }
   ],
   "source": [
    "print('Question -- how many planets were discovered in 2002?')\n",
    "\n",
    "print(year_dic['2002'], 'planets were discovered in 2002. Their names are: ', )"
   ]
  },
  {
   "cell_type": "markdown",
   "metadata": {},
   "source": [
    "<a id=\"sectiona\"> Section a: </a>"
   ]
  }
 ],
 "metadata": {
  "kernelspec": {
   "display_name": "Python 3",
   "language": "python",
   "name": "python3"
  },
  "language_info": {
   "codemirror_mode": {
    "name": "ipython",
    "version": 3
   },
   "file_extension": ".py",
   "mimetype": "text/x-python",
   "name": "python",
   "nbconvert_exporter": "python",
   "pygments_lexer": "ipython3",
   "version": "3.12.6"
  }
 },
 "nbformat": 4,
 "nbformat_minor": 2
}
